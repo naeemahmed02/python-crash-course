{
 "cells": [
  {
   "cell_type": "markdown",
   "id": "178357ac",
   "metadata": {},
   "source": [
    "## Python Collections - Lists & Tuples"
   ]
  },
  {
   "cell_type": "markdown",
   "id": "f4c72509",
   "metadata": {},
   "source": [
    "##### List in Python\n",
    "A list is a collection of items that is:\n",
    "\n",
    "- Ordered\n",
    "\n",
    "- Changeable (mutable)\n",
    "\n",
    "- Allows duplicates"
   ]
  },
  {
   "cell_type": "markdown",
   "id": "0b580a3b",
   "metadata": {},
   "source": [
    "##### Creating List in Python"
   ]
  },
  {
   "cell_type": "code",
   "execution_count": 1,
   "id": "44c5b4e7",
   "metadata": {},
   "outputs": [
    {
     "name": "stdout",
     "output_type": "stream",
     "text": [
      "['Ali', 'Sara', 'Ahmed', 'Zara']\n"
     ]
    }
   ],
   "source": [
    "# Creating a list of student names\n",
    "students = [\"Ali\", \"Sara\", \"Ahmed\", \"Zara\"]\n",
    "print(students)"
   ]
  },
  {
   "cell_type": "markdown",
   "id": "2c05e947",
   "metadata": {},
   "source": [
    "##### Accessing List Items"
   ]
  },
  {
   "cell_type": "code",
   "execution_count": 2,
   "id": "8161434f",
   "metadata": {},
   "outputs": [
    {
     "name": "stdout",
     "output_type": "stream",
     "text": [
      "Ali\n",
      "Ahmed\n",
      "Zara\n"
     ]
    }
   ],
   "source": [
    "# Accessing by index\n",
    "print(students[0])     # Ali\n",
    "print(students[2])     # Ahmed\n",
    "\n",
    "# Negative indexing\n",
    "print(students[-1])    # Zara (last element)"
   ]
  },
  {
   "cell_type": "markdown",
   "id": "ed6cf333",
   "metadata": {},
   "source": [
    "##### Modifying List Items"
   ]
  },
  {
   "cell_type": "code",
   "execution_count": 3,
   "id": "763cb52a",
   "metadata": {},
   "outputs": [
    {
     "name": "stdout",
     "output_type": "stream",
     "text": [
      "['Ali', 'Sara', 'Hamza', 'Zara']\n"
     ]
    }
   ],
   "source": [
    "students[2] = \"Hamza\"   # Change Ahmed to Hamza\n",
    "print(students)         # ['Ali', 'Sara', 'Hamza', 'Zara']"
   ]
  },
  {
   "cell_type": "markdown",
   "id": "c4ca6adb",
   "metadata": {},
   "source": [
    "##### List Slicing"
   ]
  },
  {
   "cell_type": "code",
   "execution_count": 4,
   "id": "0ed62a8b",
   "metadata": {},
   "outputs": [
    {
     "name": "stdout",
     "output_type": "stream",
     "text": [
      "['Sara', 'Hamza']\n",
      "['Ali', 'Sara']\n",
      "['Hamza', 'Zara']\n"
     ]
    }
   ],
   "source": [
    "print(students[1:3])   # ['Sara', 'Hamza']\n",
    "print(students[:2])    # ['Ali', 'Sara']\n",
    "print(students[2:])    # ['Hamza', 'Zara']"
   ]
  },
  {
   "cell_type": "markdown",
   "id": "b2e20662",
   "metadata": {},
   "source": [
    "##### Adding Items"
   ]
  },
  {
   "cell_type": "code",
   "execution_count": 5,
   "id": "9508e91f",
   "metadata": {},
   "outputs": [
    {
     "name": "stdout",
     "output_type": "stream",
     "text": [
      "['Ali', 'Naeem', 'Sara', 'Hamza', 'Zara', 'Usman']\n"
     ]
    }
   ],
   "source": [
    "# Add to the end\n",
    "students.append(\"Usman\")\n",
    "\n",
    "# Insert at specific index\n",
    "students.insert(1, \"Naeem\")\n",
    "\n",
    "print(students)"
   ]
  },
  {
   "cell_type": "markdown",
   "id": "d5c7f814",
   "metadata": {},
   "source": [
    "##### Removing Items"
   ]
  },
  {
   "cell_type": "code",
   "execution_count": 6,
   "id": "65602754",
   "metadata": {},
   "outputs": [],
   "source": [
    "# Remove by value\n",
    "students.remove(\"Zara\")\n",
    "\n",
    "# Remove by index\n",
    "students.pop(2)  # removes Hamza\n",
    "\n",
    "# Remove last item\n",
    "students.pop()\n",
    "\n",
    "# Delete by index (no return)\n",
    "del students[0]"
   ]
  },
  {
   "cell_type": "markdown",
   "id": "9061317e",
   "metadata": {},
   "source": [
    "##### Useful List Methods"
   ]
  },
  {
   "cell_type": "code",
   "execution_count": 7,
   "id": "db2e6b95",
   "metadata": {},
   "outputs": [
    {
     "name": "stdout",
     "output_type": "stream",
     "text": [
      "2\n",
      "2\n"
     ]
    }
   ],
   "source": [
    "# Rebuild list\n",
    "students = [\"Ali\", \"Sara\", \"Naeem\", \"Hamza\", \"Ali\"]\n",
    "\n",
    "# Count how many times \"Ali\" appears\n",
    "print(students.count(\"Ali\"))  # 2\n",
    "\n",
    "# Find index of \"Naeem\"\n",
    "print(students.index(\"Naeem\"))  # 2\n",
    "\n",
    "# Reverse the list\n",
    "students.reverse()\n",
    "\n",
    "# Sort alphabetically\n",
    "students.sort()\n",
    "\n",
    "# Copy list\n",
    "new_list = students.copy()\n",
    "\n",
    "# Clear all elements\n",
    "students.clear()\n"
   ]
  },
  {
   "cell_type": "markdown",
   "id": "f6e95553",
   "metadata": {},
   "source": [
    "##### Looping Through a List"
   ]
  },
  {
   "cell_type": "code",
   "execution_count": 8,
   "id": "826e75a2",
   "metadata": {},
   "outputs": [
    {
     "name": "stdout",
     "output_type": "stream",
     "text": [
      "Student: Ali\n",
      "Student: Sara\n",
      "Student: Naeem\n"
     ]
    }
   ],
   "source": [
    "students = [\"Ali\", \"Sara\", \"Naeem\"]\n",
    "\n",
    "# Print all students\n",
    "for student in students:\n",
    "    print(\"Student:\", student)"
   ]
  },
  {
   "cell_type": "markdown",
   "id": "5e1ce704",
   "metadata": {},
   "source": [
    "##### List Comprehension (Advanced Preview)"
   ]
  },
  {
   "cell_type": "code",
   "execution_count": 9,
   "id": "886e3ff1",
   "metadata": {},
   "outputs": [
    {
     "name": "stdout",
     "output_type": "stream",
     "text": [
      "[0, 1, 4, 9, 16]\n"
     ]
    }
   ],
   "source": [
    "# Create a list of squares\n",
    "squares = [x*x for x in range(5)]\n",
    "print(squares)  # [0, 1, 4, 9, 16]"
   ]
  },
  {
   "cell_type": "markdown",
   "id": "e3ba89ef",
   "metadata": {},
   "source": [
    "##### Use Cases for Lists\n",
    "- Dynamic data like student records, tasks, cart items\n",
    "\n",
    "- Frequently added/removed/modified data\n",
    "\n",
    "- Backend for menus, forms, data processing"
   ]
  },
  {
   "cell_type": "code",
   "execution_count": null,
   "id": "c2915e59",
   "metadata": {},
   "outputs": [],
   "source": []
  }
 ],
 "metadata": {
  "kernelspec": {
   "display_name": "Python 3",
   "language": "python",
   "name": "python3"
  },
  "language_info": {
   "codemirror_mode": {
    "name": "ipython",
    "version": 3
   },
   "file_extension": ".py",
   "mimetype": "text/x-python",
   "name": "python",
   "nbconvert_exporter": "python",
   "pygments_lexer": "ipython3",
   "version": "3.12.10"
  }
 },
 "nbformat": 4,
 "nbformat_minor": 5
}
