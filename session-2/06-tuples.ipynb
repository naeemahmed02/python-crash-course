{
 "cells": [
  {
   "cell_type": "markdown",
   "id": "38e4fc55",
   "metadata": {},
   "source": [
    "##### TUPLES IN PYTHON\n",
    "A tuple is:\n",
    "\n",
    "- Ordered\n",
    "\n",
    "- Immutable (can’t be changed after creation)\n",
    "\n",
    "- Allows duplicates\n",
    "\n",
    "- Faster than lists"
   ]
  },
  {
   "cell_type": "markdown",
   "id": "c4411d7f",
   "metadata": {},
   "source": [
    "##### Creating a Tuple"
   ]
  },
  {
   "cell_type": "code",
   "execution_count": 1,
   "id": "e93a1e5f",
   "metadata": {},
   "outputs": [
    {
     "name": "stdout",
     "output_type": "stream",
     "text": [
      "('Ali', 20, 'Hyderabad')\n"
     ]
    }
   ],
   "source": [
    "student_info = (\"Ali\", 20, \"Hyderabad\")\n",
    "print(student_info)\n"
   ]
  },
  {
   "cell_type": "markdown",
   "id": "ff55a32a",
   "metadata": {},
   "source": [
    "##### Accessing Tuple Items"
   ]
  },
  {
   "cell_type": "code",
   "execution_count": 2,
   "id": "0c98f956",
   "metadata": {},
   "outputs": [
    {
     "name": "stdout",
     "output_type": "stream",
     "text": [
      "Ali\n",
      "Hyderabad\n"
     ]
    }
   ],
   "source": [
    "print(student_info[0])   # Ali\n",
    "print(student_info[-1])  # Hyderabad"
   ]
  },
  {
   "cell_type": "markdown",
   "id": "16722d0d",
   "metadata": {},
   "source": [
    "##### Tuple Methods"
   ]
  },
  {
   "cell_type": "code",
   "execution_count": 3,
   "id": "0155be5c",
   "metadata": {},
   "outputs": [
    {
     "name": "stdout",
     "output_type": "stream",
     "text": [
      "2\n",
      "3\n"
     ]
    }
   ],
   "source": [
    "# Tuple of numbers\n",
    "numbers = (1, 2, 2, 3, 4)\n",
    "\n",
    "# Count occurrences\n",
    "print(numbers.count(2))  # 2\n",
    "\n",
    "# Get index of item\n",
    "print(numbers.index(3))  # 3\n"
   ]
  },
  {
   "cell_type": "markdown",
   "id": "25090fe3",
   "metadata": {},
   "source": [
    "| List                       | Tuple                              |\n",
    "| -------------------------- | ---------------------------------- |\n",
    "| Mutable – can be changed   | Immutable – cannot be changed      |\n",
    "| Slower (more memory usage) | Faster (less memory usage)         |\n",
    "| Used for changing data     | Used for fixed data (e.g., config) |\n"
   ]
  },
  {
   "cell_type": "markdown",
   "id": "d9540a2d",
   "metadata": {},
   "source": [
    "Use Cases for Tuples\n",
    "\n",
    "- Fixed data: (Latitude, Longitude), RGB colors\n",
    "\n",
    "- Database records (row data)\n",
    "\n",
    "- Secure and faster read-only collections\n",
    "\n"
   ]
  }
 ],
 "metadata": {
  "kernelspec": {
   "display_name": "Python 3",
   "language": "python",
   "name": "python3"
  },
  "language_info": {
   "codemirror_mode": {
    "name": "ipython",
    "version": 3
   },
   "file_extension": ".py",
   "mimetype": "text/x-python",
   "name": "python",
   "nbconvert_exporter": "python",
   "pygments_lexer": "ipython3",
   "version": "3.12.10"
  }
 },
 "nbformat": 4,
 "nbformat_minor": 5
}
